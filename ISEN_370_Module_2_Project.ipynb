{
  "nbformat": 4,
  "nbformat_minor": 0,
  "metadata": {
    "colab": {
      "name": "ISEN 370 Module 2 Project.ipynb",
      "provenance": [],
      "include_colab_link": true
    },
    "kernelspec": {
      "name": "python3",
      "display_name": "Python 3"
    },
    "language_info": {
      "name": "python"
    }
  },
  "cells": [
    {
      "cell_type": "markdown",
      "metadata": {
        "id": "view-in-github",
        "colab_type": "text"
      },
      "source": [
        "<a href=\"https://colab.research.google.com/github/ajbrewerlaw/ajbrewerlaw.github.io/blob/main/ISEN_370_Module_2_Project.ipynb\" target=\"_parent\"><img src=\"https://colab.research.google.com/assets/colab-badge.svg\" alt=\"Open In Colab\"/></a>"
      ]
    },
    {
      "cell_type": "markdown",
      "metadata": {
        "id": "ORIRg6IK6lqT"
      },
      "source": [
        "# ISEN 370 Project 2 Assignment\n",
        "In this assignment, you will use data science tools to exlore two datasets, calculate confidence intervals and conduct a hypothesis testing on the given datasets.\n",
        "You can use ISEN 370 Project 2 Demo file as a reference when completing this assignment.\n"
      ]
    },
    {
      "cell_type": "markdown",
      "metadata": {
        "id": "_yN-yrSITXXO"
      },
      "source": [
        "First, you will need to import required libraries to the project."
      ]
    },
    {
      "cell_type": "code",
      "metadata": {
        "id": "4y1CM1g7kkbB"
      },
      "source": [
        "\n",
        "import numpy as np"
      ],
      "execution_count": null,
      "outputs": []
    },
    {
      "cell_type": "code",
      "metadata": {
        "id": "XOO97bEbmJEr"
      },
      "source": [
        "import pandas as pd"
      ],
      "execution_count": null,
      "outputs": []
    },
    {
      "cell_type": "code",
      "metadata": {
        "id": "H-LaAAjXmJGM"
      },
      "source": [
        "import matplotlib.pyplot as plt"
      ],
      "execution_count": null,
      "outputs": []
    },
    {
      "cell_type": "code",
      "metadata": {
        "id": "FrrTUyqWmJfW"
      },
      "source": [
        "import scipy.stats as stats"
      ],
      "execution_count": null,
      "outputs": []
    },
    {
      "cell_type": "markdown",
      "metadata": {
        "id": "3qsXYkC_6_r-"
      },
      "source": [
        "## Data Import\n",
        "\n",
        "The Learning Enhanced Watershed Assessment System (LEWAS) is a unique real-time water and weather monitoring system. The LEWAS monitoring site is installed at the outfall of the Webb Branch watershed on Virginia Tech’s campus. Webb Branch is an urban stream with a 2.78 square kilometer (about one square mile) watershed consisting of residential and commercial properties. The stream is routed through man-made channels and culverts until it discharges at the LEWAS monitoring site. We first import the LEWAS datasets and print the first 10 rows of data. The data is stored in CSV files for which the path is given in the cell below. There are two CSV files, the first contains data from 9/01/17-9/30/17 and the second contains data from 10/01/17-10/31/17.\n",
        "The following codes provide the link to where the data are stored."
      ]
    },
    {
      "cell_type": "code",
      "metadata": {
        "id": "oWmt7-Ye7RY8"
      },
      "source": [
        "data_url3='https://github.com/StevenXJiang/DataScienceModule2/raw/main/LEWAS_Storm_Data_Demo_3.csv'\n",
        "data_url4='https://github.com/StevenXJiang/DataScienceModule2/raw/main/LEWAS_Storm_Data_Demo_4.csv'"
      ],
      "execution_count": null,
      "outputs": []
    },
    {
      "cell_type": "markdown",
      "metadata": {
        "id": "PM69GHhR67pA"
      },
      "source": [
        "## Exploring Data"
      ]
    },
    {
      "cell_type": "markdown",
      "metadata": {
        "id": "xXX6QS98UBQo"
      },
      "source": [
        "* Display the first 10 rows of data ufor each of the two data sets mentioned above."
      ]
    },
    {
      "cell_type": "code",
      "metadata": {
        "id": "zdwkCZlR_ssb",
        "colab": {
          "base_uri": "https://localhost:8080/",
          "height": 363
        },
        "outputId": "b2b6aa51-abc4-4254-bf10-2358403c96f2"
      },
      "source": [
        "df1=pd.read_csv(data_url3)\n",
        "df1.head(10)"
      ],
      "execution_count": null,
      "outputs": [
        {
          "output_type": "execute_result",
          "data": {
            "text/plain": [
              "     Date and Time  Water Temperature (F)  Est. Flow Rate[m^3/s]\n",
              "0  9/1/17 12:01 AM                 66.236               0.051211\n",
              "1  9/1/17 12:04 AM                 66.236               0.042161\n",
              "2  9/1/17 12:07 AM                 66.146               0.029130\n",
              "3  9/1/17 12:10 AM                 66.200               0.029003\n",
              "4  9/1/17 12:13 AM                 66.236               0.023817\n",
              "5  9/1/17 12:16 AM                 66.254               0.013823\n",
              "6  9/1/17 12:19 AM                 66.272               0.010061\n",
              "7  9/1/17 12:22 AM                 66.290               0.008013\n",
              "8  9/1/17 12:25 AM                 66.254               0.004908\n",
              "9  9/1/17 12:28 AM                 66.290               0.005631"
            ],
            "text/html": [
              "\n",
              "  <div id=\"df-9b3ccdd5-7fd8-4dc1-aa64-c2c175c1d398\" class=\"colab-df-container\">\n",
              "    <div>\n",
              "<style scoped>\n",
              "    .dataframe tbody tr th:only-of-type {\n",
              "        vertical-align: middle;\n",
              "    }\n",
              "\n",
              "    .dataframe tbody tr th {\n",
              "        vertical-align: top;\n",
              "    }\n",
              "\n",
              "    .dataframe thead th {\n",
              "        text-align: right;\n",
              "    }\n",
              "</style>\n",
              "<table border=\"1\" class=\"dataframe\">\n",
              "  <thead>\n",
              "    <tr style=\"text-align: right;\">\n",
              "      <th></th>\n",
              "      <th>Date and Time</th>\n",
              "      <th>Water Temperature (F)</th>\n",
              "      <th>Est. Flow Rate[m^3/s]</th>\n",
              "    </tr>\n",
              "  </thead>\n",
              "  <tbody>\n",
              "    <tr>\n",
              "      <th>0</th>\n",
              "      <td>9/1/17 12:01 AM</td>\n",
              "      <td>66.236</td>\n",
              "      <td>0.051211</td>\n",
              "    </tr>\n",
              "    <tr>\n",
              "      <th>1</th>\n",
              "      <td>9/1/17 12:04 AM</td>\n",
              "      <td>66.236</td>\n",
              "      <td>0.042161</td>\n",
              "    </tr>\n",
              "    <tr>\n",
              "      <th>2</th>\n",
              "      <td>9/1/17 12:07 AM</td>\n",
              "      <td>66.146</td>\n",
              "      <td>0.029130</td>\n",
              "    </tr>\n",
              "    <tr>\n",
              "      <th>3</th>\n",
              "      <td>9/1/17 12:10 AM</td>\n",
              "      <td>66.200</td>\n",
              "      <td>0.029003</td>\n",
              "    </tr>\n",
              "    <tr>\n",
              "      <th>4</th>\n",
              "      <td>9/1/17 12:13 AM</td>\n",
              "      <td>66.236</td>\n",
              "      <td>0.023817</td>\n",
              "    </tr>\n",
              "    <tr>\n",
              "      <th>5</th>\n",
              "      <td>9/1/17 12:16 AM</td>\n",
              "      <td>66.254</td>\n",
              "      <td>0.013823</td>\n",
              "    </tr>\n",
              "    <tr>\n",
              "      <th>6</th>\n",
              "      <td>9/1/17 12:19 AM</td>\n",
              "      <td>66.272</td>\n",
              "      <td>0.010061</td>\n",
              "    </tr>\n",
              "    <tr>\n",
              "      <th>7</th>\n",
              "      <td>9/1/17 12:22 AM</td>\n",
              "      <td>66.290</td>\n",
              "      <td>0.008013</td>\n",
              "    </tr>\n",
              "    <tr>\n",
              "      <th>8</th>\n",
              "      <td>9/1/17 12:25 AM</td>\n",
              "      <td>66.254</td>\n",
              "      <td>0.004908</td>\n",
              "    </tr>\n",
              "    <tr>\n",
              "      <th>9</th>\n",
              "      <td>9/1/17 12:28 AM</td>\n",
              "      <td>66.290</td>\n",
              "      <td>0.005631</td>\n",
              "    </tr>\n",
              "  </tbody>\n",
              "</table>\n",
              "</div>\n",
              "    <div class=\"colab-df-buttons\">\n",
              "\n",
              "  <div class=\"colab-df-container\">\n",
              "    <button class=\"colab-df-convert\" onclick=\"convertToInteractive('df-9b3ccdd5-7fd8-4dc1-aa64-c2c175c1d398')\"\n",
              "            title=\"Convert this dataframe to an interactive table.\"\n",
              "            style=\"display:none;\">\n",
              "\n",
              "  <svg xmlns=\"http://www.w3.org/2000/svg\" height=\"24px\" viewBox=\"0 -960 960 960\">\n",
              "    <path d=\"M120-120v-720h720v720H120Zm60-500h600v-160H180v160Zm220 220h160v-160H400v160Zm0 220h160v-160H400v160ZM180-400h160v-160H180v160Zm440 0h160v-160H620v160ZM180-180h160v-160H180v160Zm440 0h160v-160H620v160Z\"/>\n",
              "  </svg>\n",
              "    </button>\n",
              "\n",
              "  <style>\n",
              "    .colab-df-container {\n",
              "      display:flex;\n",
              "      gap: 12px;\n",
              "    }\n",
              "\n",
              "    .colab-df-convert {\n",
              "      background-color: #E8F0FE;\n",
              "      border: none;\n",
              "      border-radius: 50%;\n",
              "      cursor: pointer;\n",
              "      display: none;\n",
              "      fill: #1967D2;\n",
              "      height: 32px;\n",
              "      padding: 0 0 0 0;\n",
              "      width: 32px;\n",
              "    }\n",
              "\n",
              "    .colab-df-convert:hover {\n",
              "      background-color: #E2EBFA;\n",
              "      box-shadow: 0px 1px 2px rgba(60, 64, 67, 0.3), 0px 1px 3px 1px rgba(60, 64, 67, 0.15);\n",
              "      fill: #174EA6;\n",
              "    }\n",
              "\n",
              "    .colab-df-buttons div {\n",
              "      margin-bottom: 4px;\n",
              "    }\n",
              "\n",
              "    [theme=dark] .colab-df-convert {\n",
              "      background-color: #3B4455;\n",
              "      fill: #D2E3FC;\n",
              "    }\n",
              "\n",
              "    [theme=dark] .colab-df-convert:hover {\n",
              "      background-color: #434B5C;\n",
              "      box-shadow: 0px 1px 3px 1px rgba(0, 0, 0, 0.15);\n",
              "      filter: drop-shadow(0px 1px 2px rgba(0, 0, 0, 0.3));\n",
              "      fill: #FFFFFF;\n",
              "    }\n",
              "  </style>\n",
              "\n",
              "    <script>\n",
              "      const buttonEl =\n",
              "        document.querySelector('#df-9b3ccdd5-7fd8-4dc1-aa64-c2c175c1d398 button.colab-df-convert');\n",
              "      buttonEl.style.display =\n",
              "        google.colab.kernel.accessAllowed ? 'block' : 'none';\n",
              "\n",
              "      async function convertToInteractive(key) {\n",
              "        const element = document.querySelector('#df-9b3ccdd5-7fd8-4dc1-aa64-c2c175c1d398');\n",
              "        const dataTable =\n",
              "          await google.colab.kernel.invokeFunction('convertToInteractive',\n",
              "                                                    [key], {});\n",
              "        if (!dataTable) return;\n",
              "\n",
              "        const docLinkHtml = 'Like what you see? Visit the ' +\n",
              "          '<a target=\"_blank\" href=https://colab.research.google.com/notebooks/data_table.ipynb>data table notebook</a>'\n",
              "          + ' to learn more about interactive tables.';\n",
              "        element.innerHTML = '';\n",
              "        dataTable['output_type'] = 'display_data';\n",
              "        await google.colab.output.renderOutput(dataTable, element);\n",
              "        const docLink = document.createElement('div');\n",
              "        docLink.innerHTML = docLinkHtml;\n",
              "        element.appendChild(docLink);\n",
              "      }\n",
              "    </script>\n",
              "  </div>\n",
              "\n",
              "\n",
              "<div id=\"df-703ecab0-6281-45e6-a3e8-63e99e9d1dfe\">\n",
              "  <button class=\"colab-df-quickchart\" onclick=\"quickchart('df-703ecab0-6281-45e6-a3e8-63e99e9d1dfe')\"\n",
              "            title=\"Suggest charts\"\n",
              "            style=\"display:none;\">\n",
              "\n",
              "<svg xmlns=\"http://www.w3.org/2000/svg\" height=\"24px\"viewBox=\"0 0 24 24\"\n",
              "     width=\"24px\">\n",
              "    <g>\n",
              "        <path d=\"M19 3H5c-1.1 0-2 .9-2 2v14c0 1.1.9 2 2 2h14c1.1 0 2-.9 2-2V5c0-1.1-.9-2-2-2zM9 17H7v-7h2v7zm4 0h-2V7h2v10zm4 0h-2v-4h2v4z\"/>\n",
              "    </g>\n",
              "</svg>\n",
              "  </button>\n",
              "\n",
              "<style>\n",
              "  .colab-df-quickchart {\n",
              "      --bg-color: #E8F0FE;\n",
              "      --fill-color: #1967D2;\n",
              "      --hover-bg-color: #E2EBFA;\n",
              "      --hover-fill-color: #174EA6;\n",
              "      --disabled-fill-color: #AAA;\n",
              "      --disabled-bg-color: #DDD;\n",
              "  }\n",
              "\n",
              "  [theme=dark] .colab-df-quickchart {\n",
              "      --bg-color: #3B4455;\n",
              "      --fill-color: #D2E3FC;\n",
              "      --hover-bg-color: #434B5C;\n",
              "      --hover-fill-color: #FFFFFF;\n",
              "      --disabled-bg-color: #3B4455;\n",
              "      --disabled-fill-color: #666;\n",
              "  }\n",
              "\n",
              "  .colab-df-quickchart {\n",
              "    background-color: var(--bg-color);\n",
              "    border: none;\n",
              "    border-radius: 50%;\n",
              "    cursor: pointer;\n",
              "    display: none;\n",
              "    fill: var(--fill-color);\n",
              "    height: 32px;\n",
              "    padding: 0;\n",
              "    width: 32px;\n",
              "  }\n",
              "\n",
              "  .colab-df-quickchart:hover {\n",
              "    background-color: var(--hover-bg-color);\n",
              "    box-shadow: 0 1px 2px rgba(60, 64, 67, 0.3), 0 1px 3px 1px rgba(60, 64, 67, 0.15);\n",
              "    fill: var(--button-hover-fill-color);\n",
              "  }\n",
              "\n",
              "  .colab-df-quickchart-complete:disabled,\n",
              "  .colab-df-quickchart-complete:disabled:hover {\n",
              "    background-color: var(--disabled-bg-color);\n",
              "    fill: var(--disabled-fill-color);\n",
              "    box-shadow: none;\n",
              "  }\n",
              "\n",
              "  .colab-df-spinner {\n",
              "    border: 2px solid var(--fill-color);\n",
              "    border-color: transparent;\n",
              "    border-bottom-color: var(--fill-color);\n",
              "    animation:\n",
              "      spin 1s steps(1) infinite;\n",
              "  }\n",
              "\n",
              "  @keyframes spin {\n",
              "    0% {\n",
              "      border-color: transparent;\n",
              "      border-bottom-color: var(--fill-color);\n",
              "      border-left-color: var(--fill-color);\n",
              "    }\n",
              "    20% {\n",
              "      border-color: transparent;\n",
              "      border-left-color: var(--fill-color);\n",
              "      border-top-color: var(--fill-color);\n",
              "    }\n",
              "    30% {\n",
              "      border-color: transparent;\n",
              "      border-left-color: var(--fill-color);\n",
              "      border-top-color: var(--fill-color);\n",
              "      border-right-color: var(--fill-color);\n",
              "    }\n",
              "    40% {\n",
              "      border-color: transparent;\n",
              "      border-right-color: var(--fill-color);\n",
              "      border-top-color: var(--fill-color);\n",
              "    }\n",
              "    60% {\n",
              "      border-color: transparent;\n",
              "      border-right-color: var(--fill-color);\n",
              "    }\n",
              "    80% {\n",
              "      border-color: transparent;\n",
              "      border-right-color: var(--fill-color);\n",
              "      border-bottom-color: var(--fill-color);\n",
              "    }\n",
              "    90% {\n",
              "      border-color: transparent;\n",
              "      border-bottom-color: var(--fill-color);\n",
              "    }\n",
              "  }\n",
              "</style>\n",
              "\n",
              "  <script>\n",
              "    async function quickchart(key) {\n",
              "      const quickchartButtonEl =\n",
              "        document.querySelector('#' + key + ' button');\n",
              "      quickchartButtonEl.disabled = true;  // To prevent multiple clicks.\n",
              "      quickchartButtonEl.classList.add('colab-df-spinner');\n",
              "      try {\n",
              "        const charts = await google.colab.kernel.invokeFunction(\n",
              "            'suggestCharts', [key], {});\n",
              "      } catch (error) {\n",
              "        console.error('Error during call to suggestCharts:', error);\n",
              "      }\n",
              "      quickchartButtonEl.classList.remove('colab-df-spinner');\n",
              "      quickchartButtonEl.classList.add('colab-df-quickchart-complete');\n",
              "    }\n",
              "    (() => {\n",
              "      let quickchartButtonEl =\n",
              "        document.querySelector('#df-703ecab0-6281-45e6-a3e8-63e99e9d1dfe button');\n",
              "      quickchartButtonEl.style.display =\n",
              "        google.colab.kernel.accessAllowed ? 'block' : 'none';\n",
              "    })();\n",
              "  </script>\n",
              "</div>\n",
              "\n",
              "    </div>\n",
              "  </div>\n"
            ],
            "application/vnd.google.colaboratory.intrinsic+json": {
              "type": "dataframe",
              "variable_name": "df1",
              "summary": "{\n  \"name\": \"df1\",\n  \"rows\": 14138,\n  \"fields\": [\n    {\n      \"column\": \"Date and Time\",\n      \"properties\": {\n        \"dtype\": \"object\",\n        \"num_unique_values\": 14128,\n        \"samples\": [\n          \"9/9/17 7:33 PM\",\n          \"9/19/17 6:20 PM\",\n          \"9/5/17 1:19 PM\"\n        ],\n        \"semantic_type\": \"\",\n        \"description\": \"\"\n      }\n    },\n    {\n      \"column\": \"Water Temperature (F)\",\n      \"properties\": {\n        \"dtype\": \"number\",\n        \"std\": 2.6050026777411897,\n        \"min\": 59.18,\n        \"max\": 81.752,\n        \"num_unique_values\": 808,\n        \"samples\": [\n          72.05,\n          62.636,\n          61.97\n        ],\n        \"semantic_type\": \"\",\n        \"description\": \"\"\n      }\n    },\n    {\n      \"column\": \"Est. Flow Rate[m^3/s]\",\n      \"properties\": {\n        \"dtype\": \"number\",\n        \"std\": 0.03619959176084936,\n        \"min\": -0.042791641,\n        \"max\": 1.35213143,\n        \"num_unique_values\": 14136,\n        \"samples\": [\n          -0.002504655,\n          -0.017889538,\n          -0.01750075\n        ],\n        \"semantic_type\": \"\",\n        \"description\": \"\"\n      }\n    }\n  ]\n}"
            }
          },
          "metadata": {},
          "execution_count": 8
        }
      ]
    },
    {
      "cell_type": "code",
      "metadata": {
        "id": "8GyFarF_ngY4",
        "colab": {
          "base_uri": "https://localhost:8080/",
          "height": 363
        },
        "outputId": "9c52d52d-6988-4016-af1a-fe693e05759a"
      },
      "source": [
        "df2=pd.read_csv(data_url4)\n",
        "df2.head(10)"
      ],
      "execution_count": null,
      "outputs": [
        {
          "output_type": "execute_result",
          "data": {
            "text/plain": [
              "     Date and Time  Water Temperature (F)  Estimated Flow Rate (m3/s)\n",
              "0   10/1/2017 0:19                 62.096                    0.029084\n",
              "1   10/1/2017 0:30                 61.916                    0.032962\n",
              "2   10/1/2017 0:36                 61.862                    0.026500\n",
              "3  10/1/2017 13:25                 60.512                    0.018774\n",
              "4  10/1/2017 13:35                 60.494                    0.016194\n",
              "5  10/1/2017 13:48                 60.566                    0.013135\n",
              "6  10/1/2017 14:33                 60.836                    0.014517\n",
              "7  10/1/2017 16:40                 62.114                    0.011127\n",
              "8  10/1/2017 17:32                 62.204                    0.006843\n",
              "9  10/1/2017 17:46                 62.150                    0.004584"
            ],
            "text/html": [
              "\n",
              "  <div id=\"df-17bd9622-ff95-4eae-975b-533417934542\" class=\"colab-df-container\">\n",
              "    <div>\n",
              "<style scoped>\n",
              "    .dataframe tbody tr th:only-of-type {\n",
              "        vertical-align: middle;\n",
              "    }\n",
              "\n",
              "    .dataframe tbody tr th {\n",
              "        vertical-align: top;\n",
              "    }\n",
              "\n",
              "    .dataframe thead th {\n",
              "        text-align: right;\n",
              "    }\n",
              "</style>\n",
              "<table border=\"1\" class=\"dataframe\">\n",
              "  <thead>\n",
              "    <tr style=\"text-align: right;\">\n",
              "      <th></th>\n",
              "      <th>Date and Time</th>\n",
              "      <th>Water Temperature (F)</th>\n",
              "      <th>Estimated Flow Rate (m3/s)</th>\n",
              "    </tr>\n",
              "  </thead>\n",
              "  <tbody>\n",
              "    <tr>\n",
              "      <th>0</th>\n",
              "      <td>10/1/2017 0:19</td>\n",
              "      <td>62.096</td>\n",
              "      <td>0.029084</td>\n",
              "    </tr>\n",
              "    <tr>\n",
              "      <th>1</th>\n",
              "      <td>10/1/2017 0:30</td>\n",
              "      <td>61.916</td>\n",
              "      <td>0.032962</td>\n",
              "    </tr>\n",
              "    <tr>\n",
              "      <th>2</th>\n",
              "      <td>10/1/2017 0:36</td>\n",
              "      <td>61.862</td>\n",
              "      <td>0.026500</td>\n",
              "    </tr>\n",
              "    <tr>\n",
              "      <th>3</th>\n",
              "      <td>10/1/2017 13:25</td>\n",
              "      <td>60.512</td>\n",
              "      <td>0.018774</td>\n",
              "    </tr>\n",
              "    <tr>\n",
              "      <th>4</th>\n",
              "      <td>10/1/2017 13:35</td>\n",
              "      <td>60.494</td>\n",
              "      <td>0.016194</td>\n",
              "    </tr>\n",
              "    <tr>\n",
              "      <th>5</th>\n",
              "      <td>10/1/2017 13:48</td>\n",
              "      <td>60.566</td>\n",
              "      <td>0.013135</td>\n",
              "    </tr>\n",
              "    <tr>\n",
              "      <th>6</th>\n",
              "      <td>10/1/2017 14:33</td>\n",
              "      <td>60.836</td>\n",
              "      <td>0.014517</td>\n",
              "    </tr>\n",
              "    <tr>\n",
              "      <th>7</th>\n",
              "      <td>10/1/2017 16:40</td>\n",
              "      <td>62.114</td>\n",
              "      <td>0.011127</td>\n",
              "    </tr>\n",
              "    <tr>\n",
              "      <th>8</th>\n",
              "      <td>10/1/2017 17:32</td>\n",
              "      <td>62.204</td>\n",
              "      <td>0.006843</td>\n",
              "    </tr>\n",
              "    <tr>\n",
              "      <th>9</th>\n",
              "      <td>10/1/2017 17:46</td>\n",
              "      <td>62.150</td>\n",
              "      <td>0.004584</td>\n",
              "    </tr>\n",
              "  </tbody>\n",
              "</table>\n",
              "</div>\n",
              "    <div class=\"colab-df-buttons\">\n",
              "\n",
              "  <div class=\"colab-df-container\">\n",
              "    <button class=\"colab-df-convert\" onclick=\"convertToInteractive('df-17bd9622-ff95-4eae-975b-533417934542')\"\n",
              "            title=\"Convert this dataframe to an interactive table.\"\n",
              "            style=\"display:none;\">\n",
              "\n",
              "  <svg xmlns=\"http://www.w3.org/2000/svg\" height=\"24px\" viewBox=\"0 -960 960 960\">\n",
              "    <path d=\"M120-120v-720h720v720H120Zm60-500h600v-160H180v160Zm220 220h160v-160H400v160Zm0 220h160v-160H400v160ZM180-400h160v-160H180v160Zm440 0h160v-160H620v160ZM180-180h160v-160H180v160Zm440 0h160v-160H620v160Z\"/>\n",
              "  </svg>\n",
              "    </button>\n",
              "\n",
              "  <style>\n",
              "    .colab-df-container {\n",
              "      display:flex;\n",
              "      gap: 12px;\n",
              "    }\n",
              "\n",
              "    .colab-df-convert {\n",
              "      background-color: #E8F0FE;\n",
              "      border: none;\n",
              "      border-radius: 50%;\n",
              "      cursor: pointer;\n",
              "      display: none;\n",
              "      fill: #1967D2;\n",
              "      height: 32px;\n",
              "      padding: 0 0 0 0;\n",
              "      width: 32px;\n",
              "    }\n",
              "\n",
              "    .colab-df-convert:hover {\n",
              "      background-color: #E2EBFA;\n",
              "      box-shadow: 0px 1px 2px rgba(60, 64, 67, 0.3), 0px 1px 3px 1px rgba(60, 64, 67, 0.15);\n",
              "      fill: #174EA6;\n",
              "    }\n",
              "\n",
              "    .colab-df-buttons div {\n",
              "      margin-bottom: 4px;\n",
              "    }\n",
              "\n",
              "    [theme=dark] .colab-df-convert {\n",
              "      background-color: #3B4455;\n",
              "      fill: #D2E3FC;\n",
              "    }\n",
              "\n",
              "    [theme=dark] .colab-df-convert:hover {\n",
              "      background-color: #434B5C;\n",
              "      box-shadow: 0px 1px 3px 1px rgba(0, 0, 0, 0.15);\n",
              "      filter: drop-shadow(0px 1px 2px rgba(0, 0, 0, 0.3));\n",
              "      fill: #FFFFFF;\n",
              "    }\n",
              "  </style>\n",
              "\n",
              "    <script>\n",
              "      const buttonEl =\n",
              "        document.querySelector('#df-17bd9622-ff95-4eae-975b-533417934542 button.colab-df-convert');\n",
              "      buttonEl.style.display =\n",
              "        google.colab.kernel.accessAllowed ? 'block' : 'none';\n",
              "\n",
              "      async function convertToInteractive(key) {\n",
              "        const element = document.querySelector('#df-17bd9622-ff95-4eae-975b-533417934542');\n",
              "        const dataTable =\n",
              "          await google.colab.kernel.invokeFunction('convertToInteractive',\n",
              "                                                    [key], {});\n",
              "        if (!dataTable) return;\n",
              "\n",
              "        const docLinkHtml = 'Like what you see? Visit the ' +\n",
              "          '<a target=\"_blank\" href=https://colab.research.google.com/notebooks/data_table.ipynb>data table notebook</a>'\n",
              "          + ' to learn more about interactive tables.';\n",
              "        element.innerHTML = '';\n",
              "        dataTable['output_type'] = 'display_data';\n",
              "        await google.colab.output.renderOutput(dataTable, element);\n",
              "        const docLink = document.createElement('div');\n",
              "        docLink.innerHTML = docLinkHtml;\n",
              "        element.appendChild(docLink);\n",
              "      }\n",
              "    </script>\n",
              "  </div>\n",
              "\n",
              "\n",
              "<div id=\"df-b95284db-ed9e-4ae5-87b7-3fad95920b2c\">\n",
              "  <button class=\"colab-df-quickchart\" onclick=\"quickchart('df-b95284db-ed9e-4ae5-87b7-3fad95920b2c')\"\n",
              "            title=\"Suggest charts\"\n",
              "            style=\"display:none;\">\n",
              "\n",
              "<svg xmlns=\"http://www.w3.org/2000/svg\" height=\"24px\"viewBox=\"0 0 24 24\"\n",
              "     width=\"24px\">\n",
              "    <g>\n",
              "        <path d=\"M19 3H5c-1.1 0-2 .9-2 2v14c0 1.1.9 2 2 2h14c1.1 0 2-.9 2-2V5c0-1.1-.9-2-2-2zM9 17H7v-7h2v7zm4 0h-2V7h2v10zm4 0h-2v-4h2v4z\"/>\n",
              "    </g>\n",
              "</svg>\n",
              "  </button>\n",
              "\n",
              "<style>\n",
              "  .colab-df-quickchart {\n",
              "      --bg-color: #E8F0FE;\n",
              "      --fill-color: #1967D2;\n",
              "      --hover-bg-color: #E2EBFA;\n",
              "      --hover-fill-color: #174EA6;\n",
              "      --disabled-fill-color: #AAA;\n",
              "      --disabled-bg-color: #DDD;\n",
              "  }\n",
              "\n",
              "  [theme=dark] .colab-df-quickchart {\n",
              "      --bg-color: #3B4455;\n",
              "      --fill-color: #D2E3FC;\n",
              "      --hover-bg-color: #434B5C;\n",
              "      --hover-fill-color: #FFFFFF;\n",
              "      --disabled-bg-color: #3B4455;\n",
              "      --disabled-fill-color: #666;\n",
              "  }\n",
              "\n",
              "  .colab-df-quickchart {\n",
              "    background-color: var(--bg-color);\n",
              "    border: none;\n",
              "    border-radius: 50%;\n",
              "    cursor: pointer;\n",
              "    display: none;\n",
              "    fill: var(--fill-color);\n",
              "    height: 32px;\n",
              "    padding: 0;\n",
              "    width: 32px;\n",
              "  }\n",
              "\n",
              "  .colab-df-quickchart:hover {\n",
              "    background-color: var(--hover-bg-color);\n",
              "    box-shadow: 0 1px 2px rgba(60, 64, 67, 0.3), 0 1px 3px 1px rgba(60, 64, 67, 0.15);\n",
              "    fill: var(--button-hover-fill-color);\n",
              "  }\n",
              "\n",
              "  .colab-df-quickchart-complete:disabled,\n",
              "  .colab-df-quickchart-complete:disabled:hover {\n",
              "    background-color: var(--disabled-bg-color);\n",
              "    fill: var(--disabled-fill-color);\n",
              "    box-shadow: none;\n",
              "  }\n",
              "\n",
              "  .colab-df-spinner {\n",
              "    border: 2px solid var(--fill-color);\n",
              "    border-color: transparent;\n",
              "    border-bottom-color: var(--fill-color);\n",
              "    animation:\n",
              "      spin 1s steps(1) infinite;\n",
              "  }\n",
              "\n",
              "  @keyframes spin {\n",
              "    0% {\n",
              "      border-color: transparent;\n",
              "      border-bottom-color: var(--fill-color);\n",
              "      border-left-color: var(--fill-color);\n",
              "    }\n",
              "    20% {\n",
              "      border-color: transparent;\n",
              "      border-left-color: var(--fill-color);\n",
              "      border-top-color: var(--fill-color);\n",
              "    }\n",
              "    30% {\n",
              "      border-color: transparent;\n",
              "      border-left-color: var(--fill-color);\n",
              "      border-top-color: var(--fill-color);\n",
              "      border-right-color: var(--fill-color);\n",
              "    }\n",
              "    40% {\n",
              "      border-color: transparent;\n",
              "      border-right-color: var(--fill-color);\n",
              "      border-top-color: var(--fill-color);\n",
              "    }\n",
              "    60% {\n",
              "      border-color: transparent;\n",
              "      border-right-color: var(--fill-color);\n",
              "    }\n",
              "    80% {\n",
              "      border-color: transparent;\n",
              "      border-right-color: var(--fill-color);\n",
              "      border-bottom-color: var(--fill-color);\n",
              "    }\n",
              "    90% {\n",
              "      border-color: transparent;\n",
              "      border-bottom-color: var(--fill-color);\n",
              "    }\n",
              "  }\n",
              "</style>\n",
              "\n",
              "  <script>\n",
              "    async function quickchart(key) {\n",
              "      const quickchartButtonEl =\n",
              "        document.querySelector('#' + key + ' button');\n",
              "      quickchartButtonEl.disabled = true;  // To prevent multiple clicks.\n",
              "      quickchartButtonEl.classList.add('colab-df-spinner');\n",
              "      try {\n",
              "        const charts = await google.colab.kernel.invokeFunction(\n",
              "            'suggestCharts', [key], {});\n",
              "      } catch (error) {\n",
              "        console.error('Error during call to suggestCharts:', error);\n",
              "      }\n",
              "      quickchartButtonEl.classList.remove('colab-df-spinner');\n",
              "      quickchartButtonEl.classList.add('colab-df-quickchart-complete');\n",
              "    }\n",
              "    (() => {\n",
              "      let quickchartButtonEl =\n",
              "        document.querySelector('#df-b95284db-ed9e-4ae5-87b7-3fad95920b2c button');\n",
              "      quickchartButtonEl.style.display =\n",
              "        google.colab.kernel.accessAllowed ? 'block' : 'none';\n",
              "    })();\n",
              "  </script>\n",
              "</div>\n",
              "\n",
              "    </div>\n",
              "  </div>\n"
            ],
            "application/vnd.google.colaboratory.intrinsic+json": {
              "type": "dataframe",
              "variable_name": "df2",
              "summary": "{\n  \"name\": \"df2\",\n  \"rows\": 14158,\n  \"fields\": [\n    {\n      \"column\": \"Date and Time\",\n      \"properties\": {\n        \"dtype\": \"object\",\n        \"num_unique_values\": 14122,\n        \"samples\": [\n          \"10/10/2017 22:17\",\n          \"10/10/2017 2:17\",\n          \"10/14/2017 15:08\"\n        ],\n        \"semantic_type\": \"\",\n        \"description\": \"\"\n      }\n    },\n    {\n      \"column\": \"Water Temperature (F)\",\n      \"properties\": {\n        \"dtype\": \"number\",\n        \"std\": 3.8311567123661794,\n        \"min\": 53.762,\n        \"max\": 73.148,\n        \"num_unique_values\": 976,\n        \"samples\": [\n          61.16,\n          69.998,\n          62.456\n        ],\n        \"semantic_type\": \"\",\n        \"description\": \"\"\n      }\n    },\n    {\n      \"column\": \"Estimated Flow Rate (m3/s)\",\n      \"properties\": {\n        \"dtype\": \"number\",\n        \"std\": 0.35008059090490024,\n        \"min\": -0.057406726,\n        \"max\": 9.960066684,\n        \"num_unique_values\": 14096,\n        \"samples\": [\n          0.033954507,\n          -0.019856019,\n          0.029662326\n        ],\n        \"semantic_type\": \"\",\n        \"description\": \"\"\n      }\n    }\n  ]\n}"
            }
          },
          "metadata": {},
          "execution_count": 52
        }
      ]
    },
    {
      "cell_type": "markdown",
      "metadata": {
        "id": "RklW1Ll47aoQ"
      },
      "source": [
        "## Exploring Data\n",
        "Generate **two** scatter plots: one for the estimated flow rate data in September 2017 and the other for the estimated flow rate data in October 2017. Make sure to provide the title, x axis label and y axis label for your scatter plots."
      ]
    },
    {
      "cell_type": "markdown",
      "metadata": {
        "id": "maAkHf4WI7K6"
      },
      "source": [
        "## Scatter Plot 1"
      ]
    },
    {
      "cell_type": "code",
      "metadata": {
        "id": "XJYaSUJ7HC-4",
        "colab": {
          "base_uri": "https://localhost:8080/",
          "height": 546
        },
        "outputId": "67a331bd-f423-4711-d3e8-5ba7e77c1d1b"
      },
      "source": [
        "plt.figure(figsize=(20,12))\n",
        "plt.scatter(df1[\"Date and Time\"], df1[\"Est. Flow Rate[m^3/s]\"], s=1)\n",
        "plt.title(\"Estimated Flow Rate 9/1/17-9/3/17\")\n",
        "plt.xlabel(\"Date\")\n",
        "plt.ylabel('Estimated Flow Rate (m3/s)')\n",
        "plt.show()"
      ],
      "execution_count": null,
      "outputs": [
        {
          "output_type": "display_data",
          "data": {
            "text/plain": [
              "<Figure size 2000x1200 with 1 Axes>"
            ],
            "image/png": "[encoded data removed]"
          },
          "metadata": {}
        }
      ]
    },
    {
      "cell_type": "markdown",
      "metadata": {
        "id": "L6SSm5L5bpHu"
      },
      "source": [
        "Comment on the trend of Est. Flow Rate[m^3/s] for September 2017.\n",
        "<br>\n",
        "**Answer:**  \n",
        "<BR>"
      ]
    },
    {
      "cell_type": "markdown",
      "source": [
        "The up-and-down pattern is consistent throughout the plot, suggesting a periodic relationship between the temperature and the date."
      ],
      "metadata": {
        "id": "mbZ2czj0ypOp"
      }
    },
    {
      "cell_type": "markdown",
      "metadata": {
        "id": "BN5p9gb8I-d-"
      },
      "source": [
        "## Scatter Plot 2"
      ]
    },
    {
      "cell_type": "code",
      "metadata": {
        "id": "TjslWzhYJCEA",
        "colab": {
          "base_uri": "https://localhost:8080/",
          "height": 548
        },
        "outputId": "4b4e8aa4-9d18-43ea-bd55-6d88373ede8a"
      },
      "source": [
        "plt.figure(figsize=(20,12))\n",
        "plt.scatter(df2[\"Date and Time\"], df2[\"Estimated Flow Rate (m3/s)\"], s=1)\n",
        "plt.title(\"Estimated Flow Rate 10/1/2017-10/3/2017\")\n",
        "plt.xlabel(\"Date\")\n",
        "plt.ylabel('Estimated Flow Rate (m3/s)')\n",
        "plt.show()"
      ],
      "execution_count": null,
      "outputs": [
        {
          "output_type": "display_data",
          "data": {
            "text/plain": [
              "<Figure size 2000x1200 with 1 Axes>"
            ],
            "image/png": "[encoded data removed]"
          },
          "metadata": {}
        }
      ]
    },
    {
      "cell_type": "markdown",
      "metadata": {
        "id": "zRlTAezefKRW"
      },
      "source": [
        "Comment on the trend of Est. Flow Rate[m^3/s] for October 2017.\n",
        "<br>\n",
        "**Answer:**\n",
        "<BR>\n"
      ]
    },
    {
      "cell_type": "markdown",
      "source": [
        "The data follows a constant straight pattern with clear peaks and troughs. However, certain points exhibit sharp upward spikes, deviating from the usual oscillatory trend."
      ],
      "metadata": {
        "id": "O_wG6oe6yjqP"
      }
    },
    {
      "cell_type": "markdown",
      "metadata": {
        "id": "aHvdhLAp8JwS"
      },
      "source": [
        "## Histogram Plotting\n",
        "Plot a histogram for Est. Flow Rate  data of September 2017. Be sure to include proper titles and axis labels on each of your plots.<br>\n",
        "Plot a histogram for Est. Flow Rate data of October 2017. Be sure to include proper titles and axis labels on each of your plots."
      ]
    },
    {
      "cell_type": "markdown",
      "source": [],
      "metadata": {
        "id": "u_ViyyZu6LcH"
      }
    },
    {
      "cell_type": "code",
      "source": [
        "plt.hist(df1[\"Est. Flow Rate[m^3/s]\"])\n",
        "plt.title(\"Estimated Flow Rate 9/17\")\n",
        "plt.xlabel(\"Date\")\n",
        "plt.ylabel('Estimated Flow Rate')\n",
        "plt.show()"
      ],
      "metadata": {
        "colab": {
          "base_uri": "https://localhost:8080/",
          "height": 472
        },
        "id": "-p25mc_1pX5S",
        "outputId": "c26fcb2a-0f8c-4e89-b4f1-1c13d4b5063b"
      },
      "execution_count": null,
      "outputs": [
        {
          "output_type": "display_data",
          "data": {
            "text/plain": [
              "<Figure size 640x480 with 1 Axes>"
            ],
            "image/png": "[encoded data removed]"
          },
          "metadata": {}
        }
      ]
    },
    {
      "cell_type": "code",
      "metadata": {
        "id": "D5TXXDg58Wwn",
        "colab": {
          "base_uri": "https://localhost:8080/",
          "height": 472
        },
        "outputId": "20e5bcf9-818d-4dc6-d9ae-c89d5ab5439b"
      },
      "source": [
        "plt.hist(df2[\"Estimated Flow Rate (m3/s)\"])\n",
        "plt.title(\"Estimated Flow Rate 10/17\")\n",
        "plt.xlabel(\"Date\")\n",
        "plt.ylabel('Estimated Flow Rate')\n",
        "plt.show()"
      ],
      "execution_count": null,
      "outputs": [
        {
          "output_type": "display_data",
          "data": {
            "text/plain": [
              "<Figure size 640x480 with 1 Axes>"
            ],
            "image/png": "[encoded data removed]"
          },
          "metadata": {}
        }
      ]
    },
    {
      "cell_type": "markdown",
      "metadata": {
        "id": "-rAHneBDoEA-"
      },
      "source": [
        "***Comment on the shape of both distributions.***\n",
        "<br>\n",
        "***Answer:***\n",
        "<br>"
      ]
    },
    {
      "cell_type": "markdown",
      "source": [
        "The distribution in both histograms shows a highly skewed pattern, with one bar representing a significant peak, while the other bars are clustered near zero. This suggests that the data is heavily concentrated around a particular value, with very few occurrences at other levels."
      ],
      "metadata": {
        "id": "AeUtOJbPBjzL"
      }
    },
    {
      "cell_type": "markdown",
      "metadata": {
        "id": "et2TPHnI8Xmx"
      },
      "source": [
        "# Boxplot\n",
        "\n",
        "Generate a boxplot for Est. Flow Rate data of September 2017.<br>\n",
        "*Generate* a boxplot for Est. Flow Rate data of October 2017."
      ]
    },
    {
      "cell_type": "code",
      "metadata": {
        "id": "m72msMm7J7yt",
        "colab": {
          "base_uri": "https://localhost:8080/",
          "height": 430
        },
        "outputId": "cf91dca6-7408-478b-b7f7-7617a4527dea"
      },
      "source": [
        "\n",
        "boxplot1 = df1.boxplot(column=[\"Est. Flow Rate[m^3/s]\"], grid=False)"
      ],
      "execution_count": null,
      "outputs": [
        {
          "output_type": "display_data",
          "data": {
            "text/plain": [
              "<Figure size 640x480 with 1 Axes>"
            ],
            "image/png": "[encoded data removed]"
          },
          "metadata": {}
        }
      ]
    },
    {
      "cell_type": "code",
      "metadata": {
        "id": "CTsEzQdcKAu-",
        "colab": {
          "base_uri": "https://localhost:8080/",
          "height": 430
        },
        "outputId": "963141ab-d2a6-4c17-971e-304ebb4ed272"
      },
      "source": [
        "boxplot2 = df2.boxplot(column=[\"Estimated Flow Rate (m3/s)\"], grid=False)"
      ],
      "execution_count": null,
      "outputs": [
        {
          "output_type": "display_data",
          "data": {
            "text/plain": [
              "<Figure size 640x480 with 1 Axes>"
            ],
            "image/png": "[encoded data removed]"
          },
          "metadata": {}
        }
      ]
    },
    {
      "cell_type": "markdown",
      "metadata": {
        "id": "KInJRKw6oLWL"
      },
      "source": [
        "***Comment on both boxplots***\n",
        "<br>\n",
        "***Answer:*** <br>"
      ]
    },
    {
      "cell_type": "markdown",
      "source": [
        "In the first box plot, the data points show an upward trend as they cluster above the box and become more spread out with increasing values. Some points also fall below the box, indicating potential outliers or data points that deviate significantly from the majority. In the second box plot, the box itself is almost nonexistent, suggesting a very small interquartile range. This pattern suggests that both datasets have some level of skewness, with more variability in the higher values and potential outliers in both directions."
      ],
      "metadata": {
        "id": "9STVCapkyecD"
      }
    },
    {
      "cell_type": "markdown",
      "metadata": {
        "id": "kjwqEX7-9hBZ"
      },
      "source": [
        "\n",
        "#Confidence Interval\n",
        "\n",
        "Generate the 95% confidence interval for the mean estimated flow rate of Septemebr 2017.\n"
      ]
    },
    {
      "cell_type": "code",
      "metadata": {
        "id": "uVJHNf3w90Aa",
        "colab": {
          "base_uri": "https://localhost:8080/"
        },
        "outputId": "2849f674-2874-4325-9260-36c48fcd232d"
      },
      "source": [
        "stats.norm.interval(0.95, loc=np.mean(df1[\"Est. Flow Rate[m^3/s]\"]), scale=stats.sem(df1[\"Est. Flow Rate[m^3/s]\"]))"
      ],
      "execution_count": null,
      "outputs": [
        {
          "output_type": "execute_result",
          "data": {
            "text/plain": [
              "(-0.0005890705452862284, 0.0006043342287662121)"
            ]
          },
          "metadata": {},
          "execution_count": 60
        }
      ]
    },
    {
      "cell_type": "markdown",
      "metadata": {
        "id": "66-gYL6P943-"
      },
      "source": [
        "Interpret the confidence interval you generated.<br>\n",
        "***Answer:***"
      ]
    },
    {
      "cell_type": "markdown",
      "source": [
        "The 95% confidence interval for the mean water temperature is between (X)°F and (Y)°F. This means that we are 95% confident that the true mean water temperature for the entire population lies within this range."
      ],
      "metadata": {
        "id": "ji0FWzrjyWR5"
      }
    },
    {
      "cell_type": "markdown",
      "metadata": {
        "id": "21mdTAOrWH0s"
      },
      "source": [
        "# Hypothesis testing\n",
        "Suppose we are interested in testing if the mean estimated flow rate from September 2017 is statisticlly different from the mean estimated flow rate from October 2017."
      ]
    },
    {
      "cell_type": "markdown",
      "metadata": {
        "id": "JKDtO50yKZEs"
      },
      "source": [
        "***Question***<br>\n",
        "How many samples are there in this experiment? What are they?<br>\n",
        "***Answer***\n"
      ]
    },
    {
      "cell_type": "markdown",
      "metadata": {
        "id": "zrvr9pESKuuJ"
      },
      "source": [
        "There are 20 samples because we are using 10 rows of data from September 2017 and from October 2017."
      ]
    },
    {
      "cell_type": "markdown",
      "metadata": {
        "id": "JpeaDu-ELL8D"
      },
      "source": [
        "# Independent Variable and Dependent Variable"
      ]
    },
    {
      "cell_type": "markdown",
      "metadata": {
        "id": "SHMYbJceLYkC"
      },
      "source": [
        "***Question***<br>\n",
        "What is the independent variable and what is the dependent variable of this experiment?"
      ]
    },
    {
      "cell_type": "markdown",
      "metadata": {
        "id": "tpYMC11sLhM7"
      },
      "source": [
        "***Answer***"
      ]
    },
    {
      "cell_type": "markdown",
      "metadata": {
        "id": "Sv1axeNbR-AS"
      },
      "source": [
        "The months September 2017 and October 2017 are the independent variable and the estimated flow rate is the dependent variable."
      ]
    },
    {
      "cell_type": "markdown",
      "metadata": {
        "id": "87-nDTJpOQqM"
      },
      "source": [
        "***Question***<br>\n",
        "What are the assumptions for the two sample t test?"
      ]
    },
    {
      "cell_type": "markdown",
      "metadata": {
        "id": "h_ic0amVOW4m"
      },
      "source": [
        "***Answer***"
      ]
    },
    {
      "cell_type": "markdown",
      "metadata": {
        "id": "uSxLSiIgpCNd"
      },
      "source": [
        "The two groups being compared must be independent of each other. This means that the flow rate measurements from September should not influence the flow rate measurements from October, and vice versa."
      ]
    },
    {
      "cell_type": "markdown",
      "metadata": {
        "id": "LW5myUIGpB4g"
      },
      "source": [
        "The data within each group (September 2017 and October 2017) should follow a normal distribution."
      ]
    },
    {
      "cell_type": "markdown",
      "metadata": {
        "id": "trkUheGrOZC9"
      },
      "source": [
        "The estimated flow rate should be measured on an interval or ratio scale, meaning it must be continuous and have meaningful distances between values."
      ]
    },
    {
      "cell_type": "markdown",
      "metadata": {
        "id": "xUAxn6ruLjkO"
      },
      "source": [
        "\n",
        "\n",
        "```\n",
        "# This is formatted as code\n",
        "```\n",
        "\n",
        "#Hypothesis testing\n",
        "Use the appropraite statistical analysis technique.<br>\n",
        "Conduct model adequacy and comment on the model adequacy.<br>\n",
        "Conduct hypothesis testing"
      ]
    },
    {
      "cell_type": "code",
      "metadata": {
        "id": "7uBsvrrwL7lz"
      },
      "source": [
        "t16=df1[\"Est. Flow Rate[m^3/s]\"]\n",
        "t17=df2[\"Estimated Flow Rate (m3/s)\"]"
      ],
      "execution_count": null,
      "outputs": []
    },
    {
      "cell_type": "code",
      "metadata": {
        "id": "JFHI8RN6MQQj",
        "colab": {
          "base_uri": "https://localhost:8080/"
        },
        "outputId": "0285a1d5-fb65-49c0-87fc-f249aaa7cb90"
      },
      "source": [
        "stats.shapiro(t16)"
      ],
      "execution_count": null,
      "outputs": [
        {
          "output_type": "execute_result",
          "data": {
            "text/plain": [
              "ShapiroResult(statistic=0.3093304499311397, pvalue=2.6277096229681046e-115)"
            ]
          },
          "metadata": {},
          "execution_count": 63
        }
      ]
    },
    {
      "cell_type": "code",
      "metadata": {
        "id": "p7YpvC3VMllk",
        "colab": {
          "base_uri": "https://localhost:8080/"
        },
        "outputId": "98e2822e-e063-4648-9d7f-9c24d5165c19"
      },
      "source": [
        "stats.shapiro(t17)"
      ],
      "execution_count": null,
      "outputs": [
        {
          "output_type": "execute_result",
          "data": {
            "text/plain": [
              "ShapiroResult(statistic=0.15043115059239143, pvalue=5.797915032230988e-121)"
            ]
          },
          "metadata": {},
          "execution_count": 65
        }
      ]
    },
    {
      "cell_type": "code",
      "source": [
        "stats.levene(t16,t17)"
      ],
      "metadata": {
        "colab": {
          "base_uri": "https://localhost:8080/"
        },
        "id": "vfwKghvF12Pr",
        "outputId": "f0a3ad63-fc2e-459b-ef95-47f3defd9e9a"
      },
      "execution_count": null,
      "outputs": [
        {
          "output_type": "execute_result",
          "data": {
            "text/plain": [
              "LeveneResult(statistic=319.0139543400415, pvalue=5.830822745630015e-71)"
            ]
          },
          "metadata": {},
          "execution_count": 67
        }
      ]
    },
    {
      "cell_type": "code",
      "source": [
        "stats.ttest_ind(t16,t17)"
      ],
      "metadata": {
        "colab": {
          "base_uri": "https://localhost:8080/"
        },
        "id": "TLglQOVp16ww",
        "outputId": "85596dd5-b85c-4ec8-ee2b-b888429fc78b"
      },
      "execution_count": null,
      "outputs": [
        {
          "output_type": "execute_result",
          "data": {
            "text/plain": [
              "TtestResult(statistic=-22.18768384140037, pvalue=3.783535939485588e-108, df=28294.0)"
            ]
          },
          "metadata": {},
          "execution_count": 68
        }
      ]
    },
    {
      "cell_type": "code",
      "source": [
        "stat, p = stats.mannwhitneyu(t16, t17)\n",
        "print('Statistics=%.3f, p=%.3f '% (stat, p))"
      ],
      "metadata": {
        "colab": {
          "base_uri": "https://localhost:8080/"
        },
        "id": "CnxV4sDJ1_LU",
        "outputId": "918f1a55-a3a0-4631-c26a-e40085505064"
      },
      "execution_count": null,
      "outputs": [
        {
          "output_type": "stream",
          "name": "stdout",
          "text": [
            "Statistics=40097230.000, p=0.000 \n"
          ]
        }
      ]
    },
    {
      "cell_type": "markdown",
      "metadata": {
        "id": "ucrjLPqZNrTG"
      },
      "source": [
        "Based on the tests, what can you conclude about the model assumptions?\n",
        "<br>\n",
        "**Answer:**"
      ]
    },
    {
      "cell_type": "markdown",
      "metadata": {
        "id": "pOuyD9b_Nz_R"
      },
      "source": [
        "Given the violations of normality and variance equality, Welch’s t-test would be a better option as it adjusts for unequal variances. Alternatively, a Mann-Whitney U test could be used if you prefer a non-parametric approach that doesn’t assume normality or equal variances."
      ]
    },
    {
      "cell_type": "markdown",
      "metadata": {
        "id": "D6TV10E3N_7r"
      },
      "source": [
        "# 6-Step Hypothesis Testing"
      ]
    },
    {
      "cell_type": "markdown",
      "metadata": {
        "id": "hg3Hfk7gOE3Q"
      },
      "source": [
        "1. H0: $μ$16 = $μ$17 <br> Ha: $μ$16 $\\ne$ $μ$17"
      ]
    },
    {
      "cell_type": "markdown",
      "metadata": {
        "id": "S9dxkCiiOGxq"
      },
      "source": [
        "2. $α$ =  0.05"
      ]
    },
    {
      "cell_type": "markdown",
      "metadata": {
        "id": "hgbABRZTOHvk"
      },
      "source": [
        "3. Test statistic = 40097230"
      ]
    },
    {
      "cell_type": "markdown",
      "metadata": {
        "id": "M7wj9bdgOIfN"
      },
      "source": [
        "4. p value = 0.000"
      ]
    },
    {
      "cell_type": "markdown",
      "metadata": {
        "id": "OwGeV-MsOJGX"
      },
      "source": [
        "5. Decision: Reject H0 since p < 0.05"
      ]
    },
    {
      "cell_type": "markdown",
      "metadata": {
        "id": "Yg4ErcNWOJv8"
      },
      "source": [
        "6. At 0.05 level of significance, there is sufficient evidence to conclude that the mean estimated flow rate in September 2017 is different from the mean estimated flow rate in October 2017."
      ]
    },
    {
      "cell_type": "markdown",
      "source": [
        "# In the spalce below, type your experience with your colab project experience. What you like, what you dislike and what you would like to experience in the future colab projects.\n"
      ],
      "metadata": {
        "id": "owIijH7m4VEx"
      }
    },
    {
      "cell_type": "markdown",
      "source": [
        "I like Colab for its ease of use, free access to computational resources, and the ability to collaborate easily. However, it can be slow with large datasets, lacks some customization options, and sometimes disconnects unexpectedly. In the future, I’d appreciate better performance, more robust version control, and improved interactive visualizations."
      ],
      "metadata": {
        "id": "g3KuAU4P4f6g"
      }
    }
  ]
}